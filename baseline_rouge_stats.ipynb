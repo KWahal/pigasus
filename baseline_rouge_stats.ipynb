{
 "cells": [
  {
   "cell_type": "code",
   "execution_count": 44,
   "metadata": {},
   "outputs": [],
   "source": [
    "import pandas as pd\n",
    "import matplotlib.pyplot as plt"
   ]
  },
  {
   "cell_type": "code",
   "execution_count": 6,
   "metadata": {},
   "outputs": [],
   "source": [
    "pegasus_df = pd.read_csv(\"pegasussumms_rouges.csv\")\n",
    "extract_df = pd.read_csv(\"extractivesumms_rouges.csv\")"
   ]
  },
  {
   "cell_type": "code",
   "execution_count": 39,
   "metadata": {},
   "outputs": [
    {
     "data": {
      "text/plain": [
       "count    3269.000000\n",
       "mean        0.151635\n",
       "std         0.124931\n",
       "min         0.000000\n",
       "25%         0.065574\n",
       "50%         0.108696\n",
       "75%         0.197531\n",
       "max         0.844444\n",
       "Name: rouge1, dtype: float64"
      ]
     },
     "execution_count": 39,
     "metadata": {},
     "output_type": "execute_result"
    }
   ],
   "source": [
    "pegasus_df[\"rouge1\"].describe()"
   ]
  },
  {
   "cell_type": "code",
   "execution_count": 30,
   "metadata": {},
   "outputs": [],
   "source": [
    "pr1 = pegasus_df[\"rouge1\"].describe().reset_index()[\"rouge1\"]\n",
    "pr2 = pegasus_df[\"rouge2\"].describe().reset_index()[\"rouge2\"]\n",
    "prL = pegasus_df[\"rougeL\"].describe().reset_index()[\"rougeL\"]"
   ]
  },
  {
   "cell_type": "code",
   "execution_count": 29,
   "metadata": {},
   "outputs": [],
   "source": [
    "er1 = extract_df[\"rouge1\"].describe().reset_index()[\"rouge1\"]\n",
    "er2 = extract_df[\"rouge2\"].describe().reset_index()[\"rouge2\"]\n",
    "erL = extract_df[\"rougeL\"].describe().reset_index()[\"rougeL\"]"
   ]
  },
  {
   "cell_type": "code",
   "execution_count": 42,
   "metadata": {},
   "outputs": [],
   "source": [
    "summary = pd.DataFrame({\"Pegasus R1\": list(pr1), \n",
    "                        \"Extract R1\": list(er1), \n",
    "\n",
    "                        \"Pegasus R2\": list(pr2),\n",
    "                        \"Extract R2\": list(er2), \n",
    "\n",
    "                        \"Pegasus RL\": list(prL), \n",
    "                        \"Extract RL\": list(erL)}, \n",
    "                        index = [\"count\", \"mean\", \"std\", \"min\", \"25%\", \"50%\", \"75%\", \"max\"])"
   ]
  },
  {
   "cell_type": "code",
   "execution_count": 43,
   "metadata": {},
   "outputs": [
    {
     "data": {
      "text/html": [
       "<div>\n",
       "<style scoped>\n",
       "    .dataframe tbody tr th:only-of-type {\n",
       "        vertical-align: middle;\n",
       "    }\n",
       "\n",
       "    .dataframe tbody tr th {\n",
       "        vertical-align: top;\n",
       "    }\n",
       "\n",
       "    .dataframe thead th {\n",
       "        text-align: right;\n",
       "    }\n",
       "</style>\n",
       "<table border=\"1\" class=\"dataframe\">\n",
       "  <thead>\n",
       "    <tr style=\"text-align: right;\">\n",
       "      <th></th>\n",
       "      <th>Pegasus R1</th>\n",
       "      <th>Extract R1</th>\n",
       "      <th>Pegasus R2</th>\n",
       "      <th>Extract R2</th>\n",
       "      <th>Pegasus RL</th>\n",
       "      <th>Extract RL</th>\n",
       "    </tr>\n",
       "  </thead>\n",
       "  <tbody>\n",
       "    <tr>\n",
       "      <th>count</th>\n",
       "      <td>3269.000000</td>\n",
       "      <td>3269.000000</td>\n",
       "      <td>3269.000000</td>\n",
       "      <td>3269.000000</td>\n",
       "      <td>3269.000000</td>\n",
       "      <td>3269.000000</td>\n",
       "    </tr>\n",
       "    <tr>\n",
       "      <th>mean</th>\n",
       "      <td>0.151635</td>\n",
       "      <td>0.385063</td>\n",
       "      <td>0.081625</td>\n",
       "      <td>0.173950</td>\n",
       "      <td>0.123594</td>\n",
       "      <td>0.221922</td>\n",
       "    </tr>\n",
       "    <tr>\n",
       "      <th>std</th>\n",
       "      <td>0.124931</td>\n",
       "      <td>0.140073</td>\n",
       "      <td>0.095117</td>\n",
       "      <td>0.108850</td>\n",
       "      <td>0.103251</td>\n",
       "      <td>0.089775</td>\n",
       "    </tr>\n",
       "    <tr>\n",
       "      <th>min</th>\n",
       "      <td>0.000000</td>\n",
       "      <td>0.004584</td>\n",
       "      <td>0.000000</td>\n",
       "      <td>0.000000</td>\n",
       "      <td>0.000000</td>\n",
       "      <td>0.003056</td>\n",
       "    </tr>\n",
       "    <tr>\n",
       "      <th>25%</th>\n",
       "      <td>0.065574</td>\n",
       "      <td>0.287926</td>\n",
       "      <td>0.017467</td>\n",
       "      <td>0.090652</td>\n",
       "      <td>0.055118</td>\n",
       "      <td>0.160784</td>\n",
       "    </tr>\n",
       "    <tr>\n",
       "      <th>50%</th>\n",
       "      <td>0.108696</td>\n",
       "      <td>0.392344</td>\n",
       "      <td>0.049689</td>\n",
       "      <td>0.155317</td>\n",
       "      <td>0.089744</td>\n",
       "      <td>0.208651</td>\n",
       "    </tr>\n",
       "    <tr>\n",
       "      <th>75%</th>\n",
       "      <td>0.197531</td>\n",
       "      <td>0.490272</td>\n",
       "      <td>0.112000</td>\n",
       "      <td>0.240000</td>\n",
       "      <td>0.156250</td>\n",
       "      <td>0.270270</td>\n",
       "    </tr>\n",
       "    <tr>\n",
       "      <th>max</th>\n",
       "      <td>0.844444</td>\n",
       "      <td>0.769231</td>\n",
       "      <td>0.790698</td>\n",
       "      <td>0.639269</td>\n",
       "      <td>0.757895</td>\n",
       "      <td>0.672948</td>\n",
       "    </tr>\n",
       "  </tbody>\n",
       "</table>\n",
       "</div>"
      ],
      "text/plain": [
       "        Pegasus R1   Extract R1   Pegasus R2   Extract R2   Pegasus RL  \\\n",
       "count  3269.000000  3269.000000  3269.000000  3269.000000  3269.000000   \n",
       "mean      0.151635     0.385063     0.081625     0.173950     0.123594   \n",
       "std       0.124931     0.140073     0.095117     0.108850     0.103251   \n",
       "min       0.000000     0.004584     0.000000     0.000000     0.000000   \n",
       "25%       0.065574     0.287926     0.017467     0.090652     0.055118   \n",
       "50%       0.108696     0.392344     0.049689     0.155317     0.089744   \n",
       "75%       0.197531     0.490272     0.112000     0.240000     0.156250   \n",
       "max       0.844444     0.769231     0.790698     0.639269     0.757895   \n",
       "\n",
       "        Extract RL  \n",
       "count  3269.000000  \n",
       "mean      0.221922  \n",
       "std       0.089775  \n",
       "min       0.003056  \n",
       "25%       0.160784  \n",
       "50%       0.208651  \n",
       "75%       0.270270  \n",
       "max       0.672948  "
      ]
     },
     "execution_count": 43,
     "metadata": {},
     "output_type": "execute_result"
    }
   ],
   "source": [
    "summary"
   ]
  },
  {
   "cell_type": "code",
   "execution_count": null,
   "metadata": {},
   "outputs": [],
   "source": []
  }
 ],
 "metadata": {
  "kernelspec": {
   "display_name": "Python 3",
   "language": "python",
   "name": "python3"
  },
  "language_info": {
   "codemirror_mode": {
    "name": "ipython",
    "version": 3
   },
   "file_extension": ".py",
   "mimetype": "text/x-python",
   "name": "python",
   "nbconvert_exporter": "python",
   "pygments_lexer": "ipython3",
   "version": "3.10.7"
  },
  "orig_nbformat": 4,
  "vscode": {
   "interpreter": {
    "hash": "b0fa6594d8f4cbf19f97940f81e996739fb7646882a419484c72d19e05852a7e"
   }
  }
 },
 "nbformat": 4,
 "nbformat_minor": 2
}
